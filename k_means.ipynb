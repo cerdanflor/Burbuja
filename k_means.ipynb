{
  "nbformat": 4,
  "nbformat_minor": 0,
  "metadata": {
    "colab": {
      "name": "k-means.ipynb",
      "provenance": [],
      "authorship_tag": "ABX9TyN6Jz/xjMjUQCYLOSJtCvtW",
      "include_colab_link": true
    },
    "kernelspec": {
      "name": "python3",
      "display_name": "Python 3"
    }
  },
  "cells": [
    {
      "cell_type": "markdown",
      "metadata": {
        "id": "view-in-github",
        "colab_type": "text"
      },
      "source": [
        "<a href=\"https://colab.research.google.com/github/cerdanflor/Burbuja/blob/master/k_means.ipynb\" target=\"_parent\"><img src=\"https://colab.research.google.com/assets/colab-badge.svg\" alt=\"Open In Colab\"/></a>"
      ]
    },
    {
      "cell_type": "code",
      "metadata": {
        "id": "TnYFjmzs8S-q",
        "colab_type": "code",
        "colab": {}
      },
      "source": [
        "import numpy as np\n",
        "import pandas as pd\n",
        "from sklearn.cluster import KMeans\n",
        "\n"
      ],
      "execution_count": 42,
      "outputs": []
    },
    {
      "cell_type": "code",
      "metadata": {
        "id": "snRQ0NR-FRci",
        "colab_type": "code",
        "colab": {}
      },
      "source": [
        ""
      ],
      "execution_count": null,
      "outputs": []
    },
    {
      "cell_type": "code",
      "metadata": {
        "id": "2uH99nN2FSys",
        "colab_type": "code",
        "colab": {}
      },
      "source": [
        ""
      ],
      "execution_count": null,
      "outputs": []
    },
    {
      "cell_type": "code",
      "metadata": {
        "id": "fx2zTK3393if",
        "colab_type": "code",
        "colab": {}
      },
      "source": [
        "caso=pd.read_csv(\"https://raw.githubusercontent.com/VictorGuevaraP/ME-Machine-Learning/master/publicidad.csv\", sep=\";\")\n"
      ],
      "execution_count": 10,
      "outputs": []
    },
    {
      "cell_type": "code",
      "metadata": {
        "id": "ZO8XipPT8paF",
        "colab_type": "code",
        "colab": {
          "base_uri": "https://localhost:8080/",
          "height": 204
        },
        "outputId": "333a3d45-2d5b-4e12-c032-f47dbd301bf2"
      },
      "source": [
        "caso.head()\n",
        "\n"
      ],
      "execution_count": 12,
      "outputs": [
        {
          "output_type": "execute_result",
          "data": {
            "text/html": [
              "<div>\n",
              "<style scoped>\n",
              "    .dataframe tbody tr th:only-of-type {\n",
              "        vertical-align: middle;\n",
              "    }\n",
              "\n",
              "    .dataframe tbody tr th {\n",
              "        vertical-align: top;\n",
              "    }\n",
              "\n",
              "    .dataframe thead th {\n",
              "        text-align: right;\n",
              "    }\n",
              "</style>\n",
              "<table border=\"1\" class=\"dataframe\">\n",
              "  <thead>\n",
              "    <tr style=\"text-align: right;\">\n",
              "      <th></th>\n",
              "      <th>Ventas</th>\n",
              "      <th>Television</th>\n",
              "      <th>Radio</th>\n",
              "      <th>Periodico</th>\n",
              "    </tr>\n",
              "  </thead>\n",
              "  <tbody>\n",
              "    <tr>\n",
              "      <th>0</th>\n",
              "      <td>22.1</td>\n",
              "      <td>230.1</td>\n",
              "      <td>37.8</td>\n",
              "      <td>19</td>\n",
              "    </tr>\n",
              "    <tr>\n",
              "      <th>1</th>\n",
              "      <td>10.4</td>\n",
              "      <td>44.5</td>\n",
              "      <td>39.3</td>\n",
              "      <td>13</td>\n",
              "    </tr>\n",
              "    <tr>\n",
              "      <th>2</th>\n",
              "      <td>9.3</td>\n",
              "      <td>17.2</td>\n",
              "      <td>45.9</td>\n",
              "      <td>23</td>\n",
              "    </tr>\n",
              "    <tr>\n",
              "      <th>3</th>\n",
              "      <td>18.5</td>\n",
              "      <td>151.5</td>\n",
              "      <td>41.3</td>\n",
              "      <td>8</td>\n",
              "    </tr>\n",
              "    <tr>\n",
              "      <th>4</th>\n",
              "      <td>12.9</td>\n",
              "      <td>180.8</td>\n",
              "      <td>10.8</td>\n",
              "      <td>2</td>\n",
              "    </tr>\n",
              "  </tbody>\n",
              "</table>\n",
              "</div>"
            ],
            "text/plain": [
              "   Ventas  Television  Radio  Periodico\n",
              "0    22.1       230.1   37.8         19\n",
              "1    10.4        44.5   39.3         13\n",
              "2     9.3        17.2   45.9         23\n",
              "3    18.5       151.5   41.3          8\n",
              "4    12.9       180.8   10.8          2"
            ]
          },
          "metadata": {
            "tags": []
          },
          "execution_count": 12
        }
      ]
    },
    {
      "cell_type": "code",
      "metadata": {
        "id": "NBPKij8E87o5",
        "colab_type": "code",
        "colab": {
          "base_uri": "https://localhost:8080/",
          "height": 204
        },
        "outputId": "41965bf9-6f46-4ffa-cdd3-d85b5288ba7f"
      },
      "source": [
        "caso.info()"
      ],
      "execution_count": 13,
      "outputs": [
        {
          "output_type": "stream",
          "text": [
            "<class 'pandas.core.frame.DataFrame'>\n",
            "RangeIndex: 200 entries, 0 to 199\n",
            "Data columns (total 4 columns):\n",
            " #   Column      Non-Null Count  Dtype  \n",
            "---  ------      --------------  -----  \n",
            " 0   Ventas      200 non-null    float64\n",
            " 1   Television  200 non-null    float64\n",
            " 2   Radio       200 non-null    float64\n",
            " 3   Periodico   200 non-null    int64  \n",
            "dtypes: float64(3), int64(1)\n",
            "memory usage: 6.4 KB\n"
          ],
          "name": "stdout"
        }
      ]
    },
    {
      "cell_type": "code",
      "metadata": {
        "id": "BbeTuqFs-_bS",
        "colab_type": "code",
        "colab": {
          "base_uri": "https://localhost:8080/",
          "height": 297
        },
        "outputId": "6941cc52-dc7a-4855-c555-bf9ced4c840a"
      },
      "source": [
        "caso.describe()"
      ],
      "execution_count": 14,
      "outputs": [
        {
          "output_type": "execute_result",
          "data": {
            "text/html": [
              "<div>\n",
              "<style scoped>\n",
              "    .dataframe tbody tr th:only-of-type {\n",
              "        vertical-align: middle;\n",
              "    }\n",
              "\n",
              "    .dataframe tbody tr th {\n",
              "        vertical-align: top;\n",
              "    }\n",
              "\n",
              "    .dataframe thead th {\n",
              "        text-align: right;\n",
              "    }\n",
              "</style>\n",
              "<table border=\"1\" class=\"dataframe\">\n",
              "  <thead>\n",
              "    <tr style=\"text-align: right;\">\n",
              "      <th></th>\n",
              "      <th>Ventas</th>\n",
              "      <th>Television</th>\n",
              "      <th>Radio</th>\n",
              "      <th>Periodico</th>\n",
              "    </tr>\n",
              "  </thead>\n",
              "  <tbody>\n",
              "    <tr>\n",
              "      <th>count</th>\n",
              "      <td>200.000000</td>\n",
              "      <td>200.000000</td>\n",
              "      <td>200.000000</td>\n",
              "      <td>200.000000</td>\n",
              "    </tr>\n",
              "    <tr>\n",
              "      <th>mean</th>\n",
              "      <td>14.022500</td>\n",
              "      <td>147.042500</td>\n",
              "      <td>23.264000</td>\n",
              "      <td>7.195000</td>\n",
              "    </tr>\n",
              "    <tr>\n",
              "      <th>std</th>\n",
              "      <td>5.217457</td>\n",
              "      <td>85.854236</td>\n",
              "      <td>14.846809</td>\n",
              "      <td>5.783096</td>\n",
              "    </tr>\n",
              "    <tr>\n",
              "      <th>min</th>\n",
              "      <td>1.600000</td>\n",
              "      <td>0.700000</td>\n",
              "      <td>0.000000</td>\n",
              "      <td>0.000000</td>\n",
              "    </tr>\n",
              "    <tr>\n",
              "      <th>25%</th>\n",
              "      <td>10.375000</td>\n",
              "      <td>74.375000</td>\n",
              "      <td>9.975000</td>\n",
              "      <td>2.000000</td>\n",
              "    </tr>\n",
              "    <tr>\n",
              "      <th>50%</th>\n",
              "      <td>12.900000</td>\n",
              "      <td>149.750000</td>\n",
              "      <td>22.900000</td>\n",
              "      <td>6.000000</td>\n",
              "    </tr>\n",
              "    <tr>\n",
              "      <th>75%</th>\n",
              "      <td>17.400000</td>\n",
              "      <td>218.825000</td>\n",
              "      <td>36.525000</td>\n",
              "      <td>11.000000</td>\n",
              "    </tr>\n",
              "    <tr>\n",
              "      <th>max</th>\n",
              "      <td>27.000000</td>\n",
              "      <td>296.400000</td>\n",
              "      <td>49.600000</td>\n",
              "      <td>25.000000</td>\n",
              "    </tr>\n",
              "  </tbody>\n",
              "</table>\n",
              "</div>"
            ],
            "text/plain": [
              "           Ventas  Television       Radio   Periodico\n",
              "count  200.000000  200.000000  200.000000  200.000000\n",
              "mean    14.022500  147.042500   23.264000    7.195000\n",
              "std      5.217457   85.854236   14.846809    5.783096\n",
              "min      1.600000    0.700000    0.000000    0.000000\n",
              "25%     10.375000   74.375000    9.975000    2.000000\n",
              "50%     12.900000  149.750000   22.900000    6.000000\n",
              "75%     17.400000  218.825000   36.525000   11.000000\n",
              "max     27.000000  296.400000   49.600000   25.000000"
            ]
          },
          "metadata": {
            "tags": []
          },
          "execution_count": 14
        }
      ]
    },
    {
      "cell_type": "code",
      "metadata": {
        "id": "KxYLo0lP_UVq",
        "colab_type": "code",
        "colab": {
          "base_uri": "https://localhost:8080/",
          "height": 265
        },
        "outputId": "cb6080b3-2df2-4a52-8073-7d5a2df8725f"
      },
      "source": [
        "caso.Ventas.hist();"
      ],
      "execution_count": 17,
      "outputs": [
        {
          "output_type": "display_data",
          "data": {
            "image/png": "[encoded data removed]",
            "text/plain": [
              "<Figure size 432x288 with 1 Axes>"
            ]
          },
          "metadata": {
            "tags": [],
            "needs_background": "light"
          }
        }
      ]
    },
    {
      "cell_type": "code",
      "metadata": {
        "id": "qEN9DC85_lx7",
        "colab_type": "code",
        "colab": {
          "base_uri": "https://localhost:8080/",
          "height": 265
        },
        "outputId": "2706d9af-7fa7-4a95-e872-4bc46797c241"
      },
      "source": [
        "caso.Television.hist();"
      ],
      "execution_count": 18,
      "outputs": [
        {
          "output_type": "display_data",
          "data": {
            "image/png": "[encoded data removed]",
            "text/plain": [
              "<Figure size 432x288 with 1 Axes>"
            ]
          },
          "metadata": {
            "tags": [],
            "needs_background": "light"
          }
        }
      ]
    },
    {
      "cell_type": "code",
      "metadata": {
        "id": "lw77B8vH_-Uq",
        "colab_type": "code",
        "colab": {
          "base_uri": "https://localhost:8080/",
          "height": 281
        },
        "outputId": "394d8e68-cf6f-4e90-f86e-e089a1ea1cfb"
      },
      "source": [
        "caso.hist();"
      ],
      "execution_count": 19,
      "outputs": [
        {
          "output_type": "display_data",
          "data": {
            "image/png": "[encoded data removed]",
            "text/plain": [
              "<Figure size 432x288 with 4 Axes>"
            ]
          },
          "metadata": {
            "tags": [],
            "needs_background": "light"
          }
        }
      ]
    },
    {
      "cell_type": "code",
      "metadata": {
        "id": "HR0A1aNSAGMJ",
        "colab_type": "code",
        "colab": {
          "base_uri": "https://localhost:8080/",
          "height": 173
        },
        "outputId": "62141430-6c2d-408c-ec66-c966974bc1f1"
      },
      "source": [
        "caso.corr()"
      ],
      "execution_count": 20,
      "outputs": [
        {
          "output_type": "execute_result",
          "data": {
            "text/html": [
              "<div>\n",
              "<style scoped>\n",
              "    .dataframe tbody tr th:only-of-type {\n",
              "        vertical-align: middle;\n",
              "    }\n",
              "\n",
              "    .dataframe tbody tr th {\n",
              "        vertical-align: top;\n",
              "    }\n",
              "\n",
              "    .dataframe thead th {\n",
              "        text-align: right;\n",
              "    }\n",
              "</style>\n",
              "<table border=\"1\" class=\"dataframe\">\n",
              "  <thead>\n",
              "    <tr style=\"text-align: right;\">\n",
              "      <th></th>\n",
              "      <th>Ventas</th>\n",
              "      <th>Television</th>\n",
              "      <th>Radio</th>\n",
              "      <th>Periodico</th>\n",
              "    </tr>\n",
              "  </thead>\n",
              "  <tbody>\n",
              "    <tr>\n",
              "      <th>Ventas</th>\n",
              "      <td>1.000000</td>\n",
              "      <td>0.782224</td>\n",
              "      <td>0.576223</td>\n",
              "      <td>0.441561</td>\n",
              "    </tr>\n",
              "    <tr>\n",
              "      <th>Television</th>\n",
              "      <td>0.782224</td>\n",
              "      <td>1.000000</td>\n",
              "      <td>0.054809</td>\n",
              "      <td>0.030144</td>\n",
              "    </tr>\n",
              "    <tr>\n",
              "      <th>Radio</th>\n",
              "      <td>0.576223</td>\n",
              "      <td>0.054809</td>\n",
              "      <td>1.000000</td>\n",
              "      <td>0.800217</td>\n",
              "    </tr>\n",
              "    <tr>\n",
              "      <th>Periodico</th>\n",
              "      <td>0.441561</td>\n",
              "      <td>0.030144</td>\n",
              "      <td>0.800217</td>\n",
              "      <td>1.000000</td>\n",
              "    </tr>\n",
              "  </tbody>\n",
              "</table>\n",
              "</div>"
            ],
            "text/plain": [
              "              Ventas  Television     Radio  Periodico\n",
              "Ventas      1.000000    0.782224  0.576223   0.441561\n",
              "Television  0.782224    1.000000  0.054809   0.030144\n",
              "Radio       0.576223    0.054809  1.000000   0.800217\n",
              "Periodico   0.441561    0.030144  0.800217   1.000000"
            ]
          },
          "metadata": {
            "tags": []
          },
          "execution_count": 20
        }
      ]
    },
    {
      "cell_type": "code",
      "metadata": {
        "id": "0KfqK1mmAMwT",
        "colab_type": "code",
        "colab": {
          "base_uri": "https://localhost:8080/",
          "height": 173
        },
        "outputId": "04f91bfe-4e76-4587-85a8-529227a46bdd"
      },
      "source": [
        "caso.cov()"
      ],
      "execution_count": 21,
      "outputs": [
        {
          "output_type": "execute_result",
          "data": {
            "text/html": [
              "<div>\n",
              "<style scoped>\n",
              "    .dataframe tbody tr th:only-of-type {\n",
              "        vertical-align: middle;\n",
              "    }\n",
              "\n",
              "    .dataframe tbody tr th {\n",
              "        vertical-align: top;\n",
              "    }\n",
              "\n",
              "    .dataframe thead th {\n",
              "        text-align: right;\n",
              "    }\n",
              "</style>\n",
              "<table border=\"1\" class=\"dataframe\">\n",
              "  <thead>\n",
              "    <tr style=\"text-align: right;\">\n",
              "      <th></th>\n",
              "      <th>Ventas</th>\n",
              "      <th>Television</th>\n",
              "      <th>Radio</th>\n",
              "      <th>Periodico</th>\n",
              "    </tr>\n",
              "  </thead>\n",
              "  <tbody>\n",
              "    <tr>\n",
              "      <th>Ventas</th>\n",
              "      <td>27.221853</td>\n",
              "      <td>350.390195</td>\n",
              "      <td>44.635688</td>\n",
              "      <td>13.323229</td>\n",
              "    </tr>\n",
              "    <tr>\n",
              "      <th>Television</th>\n",
              "      <td>350.390195</td>\n",
              "      <td>7370.949893</td>\n",
              "      <td>69.862492</td>\n",
              "      <td>14.966545</td>\n",
              "    </tr>\n",
              "    <tr>\n",
              "      <th>Radio</th>\n",
              "      <td>44.635688</td>\n",
              "      <td>69.862492</td>\n",
              "      <td>220.427743</td>\n",
              "      <td>68.707055</td>\n",
              "    </tr>\n",
              "    <tr>\n",
              "      <th>Periodico</th>\n",
              "      <td>13.323229</td>\n",
              "      <td>14.966545</td>\n",
              "      <td>68.707055</td>\n",
              "      <td>33.444196</td>\n",
              "    </tr>\n",
              "  </tbody>\n",
              "</table>\n",
              "</div>"
            ],
            "text/plain": [
              "                Ventas   Television       Radio  Periodico\n",
              "Ventas       27.221853   350.390195   44.635688  13.323229\n",
              "Television  350.390195  7370.949893   69.862492  14.966545\n",
              "Radio        44.635688    69.862492  220.427743  68.707055\n",
              "Periodico    13.323229    14.966545   68.707055  33.444196"
            ]
          },
          "metadata": {
            "tags": []
          },
          "execution_count": 21
        }
      ]
    },
    {
      "cell_type": "code",
      "metadata": {
        "id": "zXTng3MTARj9",
        "colab_type": "code",
        "colab": {}
      },
      "source": [
        "#Escalar la data\n",
        "from sklearn.preprocessing import StandardScaler\n",
        "scaler =StandardScaler()"
      ],
      "execution_count": 31,
      "outputs": []
    },
    {
      "cell_type": "code",
      "metadata": {
        "id": "UynX1iQPAxSM",
        "colab_type": "code",
        "colab": {}
      },
      "source": [
        "caso_escalado=scaler.fit_transform(caso)"
      ],
      "execution_count": 32,
      "outputs": []
    },
    {
      "cell_type": "code",
      "metadata": {
        "id": "28EKriJ3Bzl2",
        "colab_type": "code",
        "colab": {}
      },
      "source": [
        "caso_escalado=pd.DataFrame(caso_escalado)"
      ],
      "execution_count": 36,
      "outputs": []
    },
    {
      "cell_type": "code",
      "metadata": {
        "id": "E0ZEh8a7CXta",
        "colab_type": "code",
        "colab": {
          "base_uri": "https://localhost:8080/",
          "height": 204
        },
        "outputId": "9468b63e-5e51-49ca-8d61-79df04e24a95"
      },
      "source": [
        "caso_escalado.head()"
      ],
      "execution_count": 37,
      "outputs": [
        {
          "output_type": "execute_result",
          "data": {
            "text/html": [
              "<div>\n",
              "<style scoped>\n",
              "    .dataframe tbody tr th:only-of-type {\n",
              "        vertical-align: middle;\n",
              "    }\n",
              "\n",
              "    .dataframe tbody tr th {\n",
              "        vertical-align: top;\n",
              "    }\n",
              "\n",
              "    .dataframe thead th {\n",
              "        text-align: right;\n",
              "    }\n",
              "</style>\n",
              "<table border=\"1\" class=\"dataframe\">\n",
              "  <thead>\n",
              "    <tr style=\"text-align: right;\">\n",
              "      <th></th>\n",
              "      <th>0</th>\n",
              "      <th>1</th>\n",
              "      <th>2</th>\n",
              "      <th>3</th>\n",
              "    </tr>\n",
              "  </thead>\n",
              "  <tbody>\n",
              "    <tr>\n",
              "      <th>0</th>\n",
              "      <td>1.552053</td>\n",
              "      <td>0.969852</td>\n",
              "      <td>0.981522</td>\n",
              "      <td>2.046417</td>\n",
              "    </tr>\n",
              "    <tr>\n",
              "      <th>1</th>\n",
              "      <td>-0.696046</td>\n",
              "      <td>-1.197376</td>\n",
              "      <td>1.082808</td>\n",
              "      <td>1.006307</td>\n",
              "    </tr>\n",
              "    <tr>\n",
              "      <th>2</th>\n",
              "      <td>-0.907406</td>\n",
              "      <td>-1.516155</td>\n",
              "      <td>1.528463</td>\n",
              "      <td>2.739823</td>\n",
              "    </tr>\n",
              "    <tr>\n",
              "      <th>3</th>\n",
              "      <td>0.860330</td>\n",
              "      <td>0.052050</td>\n",
              "      <td>1.217855</td>\n",
              "      <td>0.139548</td>\n",
              "    </tr>\n",
              "    <tr>\n",
              "      <th>4</th>\n",
              "      <td>-0.215683</td>\n",
              "      <td>0.394182</td>\n",
              "      <td>-0.841614</td>\n",
              "      <td>-0.900562</td>\n",
              "    </tr>\n",
              "  </tbody>\n",
              "</table>\n",
              "</div>"
            ],
            "text/plain": [
              "          0         1         2         3\n",
              "0  1.552053  0.969852  0.981522  2.046417\n",
              "1 -0.696046 -1.197376  1.082808  1.006307\n",
              "2 -0.907406 -1.516155  1.528463  2.739823\n",
              "3  0.860330  0.052050  1.217855  0.139548\n",
              "4 -0.215683  0.394182 -0.841614 -0.900562"
            ]
          },
          "metadata": {
            "tags": []
          },
          "execution_count": 37
        }
      ]
    },
    {
      "cell_type": "code",
      "metadata": {
        "id": "tvSPGnVcDuy3",
        "colab_type": "code",
        "colab": {
          "base_uri": "https://localhost:8080/",
          "height": 297
        },
        "outputId": "9e480eac-aabb-4de9-86c1-76bd11b14900"
      },
      "source": [
        "caso_escalado.describe()"
      ],
      "execution_count": 38,
      "outputs": [
        {
          "output_type": "execute_result",
          "data": {
            "text/html": [
              "<div>\n",
              "<style scoped>\n",
              "    .dataframe tbody tr th:only-of-type {\n",
              "        vertical-align: middle;\n",
              "    }\n",
              "\n",
              "    .dataframe tbody tr th {\n",
              "        vertical-align: top;\n",
              "    }\n",
              "\n",
              "    .dataframe thead th {\n",
              "        text-align: right;\n",
              "    }\n",
              "</style>\n",
              "<table border=\"1\" class=\"dataframe\">\n",
              "  <thead>\n",
              "    <tr style=\"text-align: right;\">\n",
              "      <th></th>\n",
              "      <th>0</th>\n",
              "      <th>1</th>\n",
              "      <th>2</th>\n",
              "      <th>3</th>\n",
              "    </tr>\n",
              "  </thead>\n",
              "  <tbody>\n",
              "    <tr>\n",
              "      <th>count</th>\n",
              "      <td>2.000000e+02</td>\n",
              "      <td>2.000000e+02</td>\n",
              "      <td>2.000000e+02</td>\n",
              "      <td>2.000000e+02</td>\n",
              "    </tr>\n",
              "    <tr>\n",
              "      <th>mean</th>\n",
              "      <td>-2.148975e-16</td>\n",
              "      <td>1.104672e-16</td>\n",
              "      <td>-4.413137e-16</td>\n",
              "      <td>-7.216450e-17</td>\n",
              "    </tr>\n",
              "    <tr>\n",
              "      <th>std</th>\n",
              "      <td>1.002509e+00</td>\n",
              "      <td>1.002509e+00</td>\n",
              "      <td>1.002509e+00</td>\n",
              "      <td>1.002509e+00</td>\n",
              "    </tr>\n",
              "    <tr>\n",
              "      <th>min</th>\n",
              "      <td>-2.386924e+00</td>\n",
              "      <td>-1.708823e+00</td>\n",
              "      <td>-1.570868e+00</td>\n",
              "      <td>-1.247265e+00</td>\n",
              "    </tr>\n",
              "    <tr>\n",
              "      <th>25%</th>\n",
              "      <td>-7.008497e-01</td>\n",
              "      <td>-8.485295e-01</td>\n",
              "      <td>-8.973206e-01</td>\n",
              "      <td>-9.005620e-01</td>\n",
              "    </tr>\n",
              "    <tr>\n",
              "      <th>50%</th>\n",
              "      <td>-2.156830e-01</td>\n",
              "      <td>3.161515e-02</td>\n",
              "      <td>-2.457858e-02</td>\n",
              "      <td>-2.071553e-01</td>\n",
              "    </tr>\n",
              "    <tr>\n",
              "      <th>75%</th>\n",
              "      <td>6.489705e-01</td>\n",
              "      <td>8.381955e-01</td>\n",
              "      <td>8.954299e-01</td>\n",
              "      <td>6.596032e-01</td>\n",
              "    </tr>\n",
              "    <tr>\n",
              "      <th>max</th>\n",
              "      <td>2.493565e+00</td>\n",
              "      <td>1.744029e+00</td>\n",
              "      <td>1.778300e+00</td>\n",
              "      <td>3.086527e+00</td>\n",
              "    </tr>\n",
              "  </tbody>\n",
              "</table>\n",
              "</div>"
            ],
            "text/plain": [
              "                  0             1             2             3\n",
              "count  2.000000e+02  2.000000e+02  2.000000e+02  2.000000e+02\n",
              "mean  -2.148975e-16  1.104672e-16 -4.413137e-16 -7.216450e-17\n",
              "std    1.002509e+00  1.002509e+00  1.002509e+00  1.002509e+00\n",
              "min   -2.386924e+00 -1.708823e+00 -1.570868e+00 -1.247265e+00\n",
              "25%   -7.008497e-01 -8.485295e-01 -8.973206e-01 -9.005620e-01\n",
              "50%   -2.156830e-01  3.161515e-02 -2.457858e-02 -2.071553e-01\n",
              "75%    6.489705e-01  8.381955e-01  8.954299e-01  6.596032e-01\n",
              "max    2.493565e+00  1.744029e+00  1.778300e+00  3.086527e+00"
            ]
          },
          "metadata": {
            "tags": []
          },
          "execution_count": 38
        }
      ]
    },
    {
      "cell_type": "code",
      "metadata": {
        "id": "QbnSOHF5D3M0",
        "colab_type": "code",
        "colab": {}
      },
      "source": [
        "caso_escalado2=(caso-caso.min())/(caso.max()-caso.min())\n"
      ],
      "execution_count": 40,
      "outputs": []
    },
    {
      "cell_type": "code",
      "metadata": {
        "id": "IH2VBP2yEbhh",
        "colab_type": "code",
        "colab": {
          "base_uri": "https://localhost:8080/",
          "height": 204
        },
        "outputId": "982ae397-b307-4e46-ba91-e15856308df4"
      },
      "source": [
        "caso_escalado2.head()\n"
      ],
      "execution_count": 41,
      "outputs": [
        {
          "output_type": "execute_result",
          "data": {
            "text/html": [
              "<div>\n",
              "<style scoped>\n",
              "    .dataframe tbody tr th:only-of-type {\n",
              "        vertical-align: middle;\n",
              "    }\n",
              "\n",
              "    .dataframe tbody tr th {\n",
              "        vertical-align: top;\n",
              "    }\n",
              "\n",
              "    .dataframe thead th {\n",
              "        text-align: right;\n",
              "    }\n",
              "</style>\n",
              "<table border=\"1\" class=\"dataframe\">\n",
              "  <thead>\n",
              "    <tr style=\"text-align: right;\">\n",
              "      <th></th>\n",
              "      <th>Ventas</th>\n",
              "      <th>Television</th>\n",
              "      <th>Radio</th>\n",
              "      <th>Periodico</th>\n",
              "    </tr>\n",
              "  </thead>\n",
              "  <tbody>\n",
              "    <tr>\n",
              "      <th>0</th>\n",
              "      <td>0.807087</td>\n",
              "      <td>0.775786</td>\n",
              "      <td>0.762097</td>\n",
              "      <td>0.76</td>\n",
              "    </tr>\n",
              "    <tr>\n",
              "      <th>1</th>\n",
              "      <td>0.346457</td>\n",
              "      <td>0.148123</td>\n",
              "      <td>0.792339</td>\n",
              "      <td>0.52</td>\n",
              "    </tr>\n",
              "    <tr>\n",
              "      <th>2</th>\n",
              "      <td>0.303150</td>\n",
              "      <td>0.055800</td>\n",
              "      <td>0.925403</td>\n",
              "      <td>0.92</td>\n",
              "    </tr>\n",
              "    <tr>\n",
              "      <th>3</th>\n",
              "      <td>0.665354</td>\n",
              "      <td>0.509976</td>\n",
              "      <td>0.832661</td>\n",
              "      <td>0.32</td>\n",
              "    </tr>\n",
              "    <tr>\n",
              "      <th>4</th>\n",
              "      <td>0.444882</td>\n",
              "      <td>0.609063</td>\n",
              "      <td>0.217742</td>\n",
              "      <td>0.08</td>\n",
              "    </tr>\n",
              "  </tbody>\n",
              "</table>\n",
              "</div>"
            ],
            "text/plain": [
              "     Ventas  Television     Radio  Periodico\n",
              "0  0.807087    0.775786  0.762097       0.76\n",
              "1  0.346457    0.148123  0.792339       0.52\n",
              "2  0.303150    0.055800  0.925403       0.92\n",
              "3  0.665354    0.509976  0.832661       0.32\n",
              "4  0.444882    0.609063  0.217742       0.08"
            ]
          },
          "metadata": {
            "tags": []
          },
          "execution_count": 41
        }
      ]
    },
    {
      "cell_type": "code",
      "metadata": {
        "id": "y6TH7LyvFVfq",
        "colab_type": "code",
        "colab": {}
      },
      "source": [
        "from sklearn.cluster import KMeans"
      ],
      "execution_count": 43,
      "outputs": []
    },
    {
      "cell_type": "code",
      "metadata": {
        "id": "WO-kObJgFXqb",
        "colab_type": "code",
        "colab": {}
      },
      "source": [
        "funcion=KMeans(n_clusters=3, init='k-means++')\n",
        "funcion2=KMeans(n_clusters=3, init='k-means++')\n"
      ],
      "execution_count": 49,
      "outputs": []
    },
    {
      "cell_type": "code",
      "metadata": {
        "id": "espBAPC2Fiob",
        "colab_type": "code",
        "colab": {
          "base_uri": "https://localhost:8080/",
          "height": 68
        },
        "outputId": "30fda759-cab1-42e8-e40c-d6a4e7c7fb69"
      },
      "source": [
        "funcion.fit(caso_escalado)\n"
      ],
      "execution_count": 50,
      "outputs": [
        {
          "output_type": "execute_result",
          "data": {
            "text/plain": [
              "KMeans(algorithm='auto', copy_x=True, init='k-means++', max_iter=300,\n",
              "       n_clusters=3, n_init=10, n_jobs=None, precompute_distances='auto',\n",
              "       random_state=None, tol=0.0001, verbose=0)"
            ]
          },
          "metadata": {
            "tags": []
          },
          "execution_count": 50
        }
      ]
    },
    {
      "cell_type": "code",
      "metadata": {
        "id": "-j1U84R2Fu5y",
        "colab_type": "code",
        "colab": {
          "base_uri": "https://localhost:8080/",
          "height": 68
        },
        "outputId": "780c7d6a-4a86-4580-e002-df36e84dcf8d"
      },
      "source": [
        "funcion2.fit(caso_escalado2)\n"
      ],
      "execution_count": 51,
      "outputs": [
        {
          "output_type": "execute_result",
          "data": {
            "text/plain": [
              "KMeans(algorithm='auto', copy_x=True, init='k-means++', max_iter=300,\n",
              "       n_clusters=3, n_init=10, n_jobs=None, precompute_distances='auto',\n",
              "       random_state=None, tol=0.0001, verbose=0)"
            ]
          },
          "metadata": {
            "tags": []
          },
          "execution_count": 51
        }
      ]
    },
    {
      "cell_type": "code",
      "metadata": {
        "id": "7Rklwb8hF4Px",
        "colab_type": "code",
        "colab": {
          "base_uri": "https://localhost:8080/",
          "height": 34
        },
        "outputId": "0223cf74-ea46-4180-d032-f2a7493a7bba"
      },
      "source": [
        "funcion.inertia_\n"
      ],
      "execution_count": 52,
      "outputs": [
        {
          "output_type": "execute_result",
          "data": {
            "text/plain": [
              "316.78651130051225"
            ]
          },
          "metadata": {
            "tags": []
          },
          "execution_count": 52
        }
      ]
    },
    {
      "cell_type": "code",
      "metadata": {
        "id": "ldRRAqS0GSWI",
        "colab_type": "code",
        "colab": {
          "base_uri": "https://localhost:8080/",
          "height": 34
        },
        "outputId": "e90221ac-cb02-4692-8927-17b9f577fc8a"
      },
      "source": [
        "funcion2.inertia_\n"
      ],
      "execution_count": 53,
      "outputs": [
        {
          "output_type": "execute_result",
          "data": {
            "text/plain": [
              "21.11541476295242"
            ]
          },
          "metadata": {
            "tags": []
          },
          "execution_count": 53
        }
      ]
    },
    {
      "cell_type": "code",
      "metadata": {
        "id": "5YLjZD_-Hucs",
        "colab_type": "code",
        "colab": {}
      },
      "source": [
        "#Método del codo para saber la cantidad optima de cluster\n",
        "SSE=[]\n",
        "for cluster in range(1,20):\n",
        "  grupo1=KMeans(n_jobs=-1,n_clusters=cluster, init='k-means++')\n",
        "  grupo1.fit(caso_escalado2)\n",
        "  SSE.append(grupo1.inertia_)\n"
      ],
      "execution_count": 56,
      "outputs": []
    },
    {
      "cell_type": "code",
      "metadata": {
        "id": "PLm5ByTTKFWG",
        "colab_type": "code",
        "colab": {}
      },
      "source": [
        "import matplotlib.pyplot as plt\n",
        " "
      ],
      "execution_count": 62,
      "outputs": []
    },
    {
      "cell_type": "code",
      "metadata": {
        "id": "An8IkglPJs_k",
        "colab_type": "code",
        "colab": {
          "base_uri": "https://localhost:8080/",
          "height": 265
        },
        "outputId": "574cb3f8-8976-40b2-ebe6-766957ef2307"
      },
      "source": [
        "caso_codo=pd.DataFrame({'cluster':range(1,20), 'SSE': SSE})\n",
        "plt.plot(caso_codo['cluster'],caso_codo['SSE'], marker='o');\n"
      ],
      "execution_count": 63,
      "outputs": [
        {
          "output_type": "display_data",
          "data": {
            "image/png": "[encoded data removed]",
            "text/plain": [
              "<Figure size 432x288 with 1 Axes>"
            ]
          },
          "metadata": {
            "tags": [],
            "needs_background": "light"
          }
        }
      ]
    },
    {
      "cell_type": "code",
      "metadata": {
        "id": "2yShWsx3LF-n",
        "colab_type": "code",
        "colab": {
          "base_uri": "https://localhost:8080/",
          "height": 405
        },
        "outputId": "7210071b-574b-46a5-a326-1dd5eb4ba4b5"
      },
      "source": [
        "caso_codo=pd.DataFrame({'cluster':range(1,20), 'SSE': SSE})\n",
        "plt.figure(figsize=(15,6))\n",
        "plt.plot(caso_codo['cluster'],caso_codo['SSE'], marker='o');\n",
        "plt.xlabel('Numero de cluster - k')\n",
        "plt.ylabel('Inertia')\n"
      ],
      "execution_count": 64,
      "outputs": [
        {
          "output_type": "execute_result",
          "data": {
            "text/plain": [
              "Text(0, 0.5, 'Inertia')"
            ]
          },
          "metadata": {
            "tags": []
          },
          "execution_count": 64
        },
        {
          "output_type": "display_data",
          "data": {
            "image/png": "[encoded data removed]",
            "text/plain": [
              "<Figure size 1080x432 with 1 Axes>"
            ]
          },
          "metadata": {
            "tags": [],
            "needs_background": "light"
          }
        }
      ]
    },
    {
      "cell_type": "code",
      "metadata": {
        "id": "6-aqJJAnM0aD",
        "colab_type": "code",
        "colab": {}
      },
      "source": [
        "#Según el metodo del codo sugiere que se debería generar 4 grupos\n",
        "funcion_final=KMeans( n_clusters=4, init='k-means++')\n",
        "\n"
      ],
      "execution_count": 65,
      "outputs": []
    },
    {
      "cell_type": "code",
      "metadata": {
        "id": "Rk5AR0GoM37Z",
        "colab_type": "code",
        "colab": {
          "base_uri": "https://localhost:8080/",
          "height": 68
        },
        "outputId": "15652db4-948c-4089-a0f6-688fe541b83b"
      },
      "source": [
        "funcion_final.fit(caso_escalado2)\n"
      ],
      "execution_count": 66,
      "outputs": [
        {
          "output_type": "execute_result",
          "data": {
            "text/plain": [
              "KMeans(algorithm='auto', copy_x=True, init='k-means++', max_iter=300,\n",
              "       n_clusters=4, n_init=10, n_jobs=None, precompute_distances='auto',\n",
              "       random_state=None, tol=0.0001, verbose=0)"
            ]
          },
          "metadata": {
            "tags": []
          },
          "execution_count": 66
        }
      ]
    },
    {
      "cell_type": "code",
      "metadata": {
        "id": "kKcjJd3yM6bU",
        "colab_type": "code",
        "colab": {
          "base_uri": "https://localhost:8080/",
          "height": 34
        },
        "outputId": "20c0c42a-e31c-463f-9895-5fc17368280a"
      },
      "source": [
        "funcion_final.inertia_"
      ],
      "execution_count": 67,
      "outputs": [
        {
          "output_type": "execute_result",
          "data": {
            "text/plain": [
              "15.201246162308056"
            ]
          },
          "metadata": {
            "tags": []
          },
          "execution_count": 67
        }
      ]
    },
    {
      "cell_type": "code",
      "metadata": {
        "id": "cQEm1Dy5NOmx",
        "colab_type": "code",
        "colab": {}
      },
      "source": [
        "pred=funcion_final.predict(caso_escalado2)\n"
      ],
      "execution_count": 77,
      "outputs": []
    },
    {
      "cell_type": "code",
      "metadata": {
        "id": "8IXKUyaeO0l5",
        "colab_type": "code",
        "colab": {}
      },
      "source": [
        "caso_final=pd.DataFrame(caso_escalado2)\n"
      ],
      "execution_count": 78,
      "outputs": []
    },
    {
      "cell_type": "code",
      "metadata": {
        "id": "e1VnOyIaO-Cr",
        "colab_type": "code",
        "colab": {}
      },
      "source": [
        "caso_final['cluster']=pred\n"
      ],
      "execution_count": 83,
      "outputs": []
    },
    {
      "cell_type": "code",
      "metadata": {
        "id": "g3RxrW78NXmh",
        "colab_type": "code",
        "colab": {
          "base_uri": "https://localhost:8080/",
          "height": 204
        },
        "outputId": "d2967229-cb31-4841-cc87-cb2d57b7c608"
      },
      "source": [
        "caso_final.head()\n",
        "\n",
        "\n",
        "\n",
        "\n",
        "                      "
      ],
      "execution_count": 84,
      "outputs": [
        {
          "output_type": "execute_result",
          "data": {
            "text/html": [
              "<div>\n",
              "<style scoped>\n",
              "    .dataframe tbody tr th:only-of-type {\n",
              "        vertical-align: middle;\n",
              "    }\n",
              "\n",
              "    .dataframe tbody tr th {\n",
              "        vertical-align: top;\n",
              "    }\n",
              "\n",
              "    .dataframe thead th {\n",
              "        text-align: right;\n",
              "    }\n",
              "</style>\n",
              "<table border=\"1\" class=\"dataframe\">\n",
              "  <thead>\n",
              "    <tr style=\"text-align: right;\">\n",
              "      <th></th>\n",
              "      <th>Ventas</th>\n",
              "      <th>Television</th>\n",
              "      <th>Radio</th>\n",
              "      <th>Periodico</th>\n",
              "      <th>cluster</th>\n",
              "    </tr>\n",
              "  </thead>\n",
              "  <tbody>\n",
              "    <tr>\n",
              "      <th>0</th>\n",
              "      <td>0.807087</td>\n",
              "      <td>0.775786</td>\n",
              "      <td>0.762097</td>\n",
              "      <td>0.76</td>\n",
              "      <td>1</td>\n",
              "    </tr>\n",
              "    <tr>\n",
              "      <th>1</th>\n",
              "      <td>0.346457</td>\n",
              "      <td>0.148123</td>\n",
              "      <td>0.792339</td>\n",
              "      <td>0.52</td>\n",
              "      <td>2</td>\n",
              "    </tr>\n",
              "    <tr>\n",
              "      <th>2</th>\n",
              "      <td>0.303150</td>\n",
              "      <td>0.055800</td>\n",
              "      <td>0.925403</td>\n",
              "      <td>0.92</td>\n",
              "      <td>2</td>\n",
              "    </tr>\n",
              "    <tr>\n",
              "      <th>3</th>\n",
              "      <td>0.665354</td>\n",
              "      <td>0.509976</td>\n",
              "      <td>0.832661</td>\n",
              "      <td>0.32</td>\n",
              "      <td>1</td>\n",
              "    </tr>\n",
              "    <tr>\n",
              "      <th>4</th>\n",
              "      <td>0.444882</td>\n",
              "      <td>0.609063</td>\n",
              "      <td>0.217742</td>\n",
              "      <td>0.08</td>\n",
              "      <td>3</td>\n",
              "    </tr>\n",
              "  </tbody>\n",
              "</table>\n",
              "</div>"
            ],
            "text/plain": [
              "     Ventas  Television     Radio  Periodico  cluster\n",
              "0  0.807087    0.775786  0.762097       0.76        1\n",
              "1  0.346457    0.148123  0.792339       0.52        2\n",
              "2  0.303150    0.055800  0.925403       0.92        2\n",
              "3  0.665354    0.509976  0.832661       0.32        1\n",
              "4  0.444882    0.609063  0.217742       0.08        3"
            ]
          },
          "metadata": {
            "tags": []
          },
          "execution_count": 84
        }
      ]
    },
    {
      "cell_type": "code",
      "metadata": {
        "id": "wM86MfuNPTyZ",
        "colab_type": "code",
        "colab": {
          "base_uri": "https://localhost:8080/",
          "height": 669
        },
        "outputId": "9a506a68-c514-48f8-d0e7-3287545f2a62"
      },
      "source": [
        "caso_final.head(20)"
      ],
      "execution_count": 85,
      "outputs": [
        {
          "output_type": "execute_result",
          "data": {
            "text/html": [
              "<div>\n",
              "<style scoped>\n",
              "    .dataframe tbody tr th:only-of-type {\n",
              "        vertical-align: middle;\n",
              "    }\n",
              "\n",
              "    .dataframe tbody tr th {\n",
              "        vertical-align: top;\n",
              "    }\n",
              "\n",
              "    .dataframe thead th {\n",
              "        text-align: right;\n",
              "    }\n",
              "</style>\n",
              "<table border=\"1\" class=\"dataframe\">\n",
              "  <thead>\n",
              "    <tr style=\"text-align: right;\">\n",
              "      <th></th>\n",
              "      <th>Ventas</th>\n",
              "      <th>Television</th>\n",
              "      <th>Radio</th>\n",
              "      <th>Periodico</th>\n",
              "      <th>cluster</th>\n",
              "    </tr>\n",
              "  </thead>\n",
              "  <tbody>\n",
              "    <tr>\n",
              "      <th>0</th>\n",
              "      <td>0.807087</td>\n",
              "      <td>0.775786</td>\n",
              "      <td>0.762097</td>\n",
              "      <td>0.76</td>\n",
              "      <td>1</td>\n",
              "    </tr>\n",
              "    <tr>\n",
              "      <th>1</th>\n",
              "      <td>0.346457</td>\n",
              "      <td>0.148123</td>\n",
              "      <td>0.792339</td>\n",
              "      <td>0.52</td>\n",
              "      <td>2</td>\n",
              "    </tr>\n",
              "    <tr>\n",
              "      <th>2</th>\n",
              "      <td>0.303150</td>\n",
              "      <td>0.055800</td>\n",
              "      <td>0.925403</td>\n",
              "      <td>0.92</td>\n",
              "      <td>2</td>\n",
              "    </tr>\n",
              "    <tr>\n",
              "      <th>3</th>\n",
              "      <td>0.665354</td>\n",
              "      <td>0.509976</td>\n",
              "      <td>0.832661</td>\n",
              "      <td>0.32</td>\n",
              "      <td>1</td>\n",
              "    </tr>\n",
              "    <tr>\n",
              "      <th>4</th>\n",
              "      <td>0.444882</td>\n",
              "      <td>0.609063</td>\n",
              "      <td>0.217742</td>\n",
              "      <td>0.08</td>\n",
              "      <td>3</td>\n",
              "    </tr>\n",
              "    <tr>\n",
              "      <th>5</th>\n",
              "      <td>0.220472</td>\n",
              "      <td>0.027054</td>\n",
              "      <td>0.985887</td>\n",
              "      <td>0.48</td>\n",
              "      <td>2</td>\n",
              "    </tr>\n",
              "    <tr>\n",
              "      <th>6</th>\n",
              "      <td>0.401575</td>\n",
              "      <td>0.192087</td>\n",
              "      <td>0.661290</td>\n",
              "      <td>0.28</td>\n",
              "      <td>2</td>\n",
              "    </tr>\n",
              "    <tr>\n",
              "      <th>7</th>\n",
              "      <td>0.456693</td>\n",
              "      <td>0.404126</td>\n",
              "      <td>0.395161</td>\n",
              "      <td>0.40</td>\n",
              "      <td>2</td>\n",
              "    </tr>\n",
              "    <tr>\n",
              "      <th>8</th>\n",
              "      <td>0.125984</td>\n",
              "      <td>0.026716</td>\n",
              "      <td>0.042339</td>\n",
              "      <td>0.04</td>\n",
              "      <td>0</td>\n",
              "    </tr>\n",
              "    <tr>\n",
              "      <th>9</th>\n",
              "      <td>0.354331</td>\n",
              "      <td>0.673318</td>\n",
              "      <td>0.052419</td>\n",
              "      <td>0.04</td>\n",
              "      <td>3</td>\n",
              "    </tr>\n",
              "    <tr>\n",
              "      <th>10</th>\n",
              "      <td>0.275591</td>\n",
              "      <td>0.221170</td>\n",
              "      <td>0.116935</td>\n",
              "      <td>0.04</td>\n",
              "      <td>0</td>\n",
              "    </tr>\n",
              "    <tr>\n",
              "      <th>11</th>\n",
              "      <td>0.622047</td>\n",
              "      <td>0.723706</td>\n",
              "      <td>0.483871</td>\n",
              "      <td>0.48</td>\n",
              "      <td>1</td>\n",
              "    </tr>\n",
              "    <tr>\n",
              "      <th>12</th>\n",
              "      <td>0.299213</td>\n",
              "      <td>0.078120</td>\n",
              "      <td>0.707661</td>\n",
              "      <td>0.48</td>\n",
              "      <td>2</td>\n",
              "    </tr>\n",
              "    <tr>\n",
              "      <th>13</th>\n",
              "      <td>0.318898</td>\n",
              "      <td>0.327359</td>\n",
              "      <td>0.153226</td>\n",
              "      <td>0.08</td>\n",
              "      <td>0</td>\n",
              "    </tr>\n",
              "    <tr>\n",
              "      <th>14</th>\n",
              "      <td>0.685039</td>\n",
              "      <td>0.687859</td>\n",
              "      <td>0.663306</td>\n",
              "      <td>0.28</td>\n",
              "      <td>1</td>\n",
              "    </tr>\n",
              "    <tr>\n",
              "      <th>15</th>\n",
              "      <td>0.818898</td>\n",
              "      <td>0.658438</td>\n",
              "      <td>0.961694</td>\n",
              "      <td>0.48</td>\n",
              "      <td>1</td>\n",
              "    </tr>\n",
              "    <tr>\n",
              "      <th>16</th>\n",
              "      <td>0.429134</td>\n",
              "      <td>0.226919</td>\n",
              "      <td>0.737903</td>\n",
              "      <td>0.48</td>\n",
              "      <td>2</td>\n",
              "    </tr>\n",
              "    <tr>\n",
              "      <th>17</th>\n",
              "      <td>0.897638</td>\n",
              "      <td>0.949273</td>\n",
              "      <td>0.798387</td>\n",
              "      <td>0.28</td>\n",
              "      <td>1</td>\n",
              "    </tr>\n",
              "    <tr>\n",
              "      <th>18</th>\n",
              "      <td>0.381890</td>\n",
              "      <td>0.231654</td>\n",
              "      <td>0.413306</td>\n",
              "      <td>0.40</td>\n",
              "      <td>2</td>\n",
              "    </tr>\n",
              "    <tr>\n",
              "      <th>19</th>\n",
              "      <td>0.511811</td>\n",
              "      <td>0.495773</td>\n",
              "      <td>0.481855</td>\n",
              "      <td>0.16</td>\n",
              "      <td>3</td>\n",
              "    </tr>\n",
              "  </tbody>\n",
              "</table>\n",
              "</div>"
            ],
            "text/plain": [
              "      Ventas  Television     Radio  Periodico  cluster\n",
              "0   0.807087    0.775786  0.762097       0.76        1\n",
              "1   0.346457    0.148123  0.792339       0.52        2\n",
              "2   0.303150    0.055800  0.925403       0.92        2\n",
              "3   0.665354    0.509976  0.832661       0.32        1\n",
              "4   0.444882    0.609063  0.217742       0.08        3\n",
              "5   0.220472    0.027054  0.985887       0.48        2\n",
              "6   0.401575    0.192087  0.661290       0.28        2\n",
              "7   0.456693    0.404126  0.395161       0.40        2\n",
              "8   0.125984    0.026716  0.042339       0.04        0\n",
              "9   0.354331    0.673318  0.052419       0.04        3\n",
              "10  0.275591    0.221170  0.116935       0.04        0\n",
              "11  0.622047    0.723706  0.483871       0.48        1\n",
              "12  0.299213    0.078120  0.707661       0.48        2\n",
              "13  0.318898    0.327359  0.153226       0.08        0\n",
              "14  0.685039    0.687859  0.663306       0.28        1\n",
              "15  0.818898    0.658438  0.961694       0.48        1\n",
              "16  0.429134    0.226919  0.737903       0.48        2\n",
              "17  0.897638    0.949273  0.798387       0.28        1\n",
              "18  0.381890    0.231654  0.413306       0.40        2\n",
              "19  0.511811    0.495773  0.481855       0.16        3"
            ]
          },
          "metadata": {
            "tags": []
          },
          "execution_count": 85
        }
      ]
    },
    {
      "cell_type": "code",
      "metadata": {
        "id": "xJsj6jzWOSuS",
        "colab_type": "code",
        "colab": {
          "base_uri": "https://localhost:8080/",
          "height": 102
        },
        "outputId": "5b9a367a-873e-4b62-b7ad-dd98a4fdcebb"
      },
      "source": [
        "caso_final['cluster'].value_counts()"
      ],
      "execution_count": 86,
      "outputs": [
        {
          "output_type": "execute_result",
          "data": {
            "text/plain": [
              "3    54\n",
              "1    54\n",
              "0    49\n",
              "2    43\n",
              "Name: cluster, dtype: int64"
            ]
          },
          "metadata": {
            "tags": []
          },
          "execution_count": 86
        }
      ]
    }
  ]
}